{
 "cells": [
  {
   "cell_type": "markdown",
   "metadata": {},
   "source": [
    "# Wine Reviews\n",
    "\n",
    "\n",
    "## 1. 数据可视化和摘要\n",
    "\n",
    "该数据集是包括了许多葡萄酒的点评，有以下版本：\n",
    "\n",
    "\n",
    "| name | description |\n",
    "| ---- | ----------- |\n",
    "| winemag-data_first150k | 第一版 15万葡萄酒点评 |\n",
    "| winemag-data-130k-v2 | 第二版 去重后加入了点评者信息 |\n",
    "\n",
    "本文选用第二版数据进行分析"
   ]
  },
  {
   "cell_type": "code",
   "execution_count": 1,
   "metadata": {
    "ExecuteTime": {
     "end_time": "2019-03-28T07:52:14.127309Z",
     "start_time": "2019-03-28T07:52:12.463522Z"
    }
   },
   "outputs": [
    {
     "data": {
      "text/html": [
       "<div>\n",
       "<style scoped>\n",
       "    .dataframe tbody tr th:only-of-type {\n",
       "        vertical-align: middle;\n",
       "    }\n",
       "\n",
       "    .dataframe tbody tr th {\n",
       "        vertical-align: top;\n",
       "    }\n",
       "\n",
       "    .dataframe thead th {\n",
       "        text-align: right;\n",
       "    }\n",
       "</style>\n",
       "<table border=\"1\" class=\"dataframe\">\n",
       "  <thead>\n",
       "    <tr style=\"text-align: right;\">\n",
       "      <th></th>\n",
       "      <th>country</th>\n",
       "      <th>description</th>\n",
       "      <th>designation</th>\n",
       "      <th>points</th>\n",
       "      <th>price</th>\n",
       "      <th>province</th>\n",
       "      <th>region_1</th>\n",
       "      <th>region_2</th>\n",
       "      <th>taster_name</th>\n",
       "      <th>taster_twitter_handle</th>\n",
       "      <th>title</th>\n",
       "      <th>variety</th>\n",
       "      <th>winery</th>\n",
       "    </tr>\n",
       "  </thead>\n",
       "  <tbody>\n",
       "    <tr>\n",
       "      <th>0</th>\n",
       "      <td>Italy</td>\n",
       "      <td>Aromas include tropical fruit, broom, brimston...</td>\n",
       "      <td>Vulkà Bianco</td>\n",
       "      <td>87</td>\n",
       "      <td>NaN</td>\n",
       "      <td>Sicily &amp; Sardinia</td>\n",
       "      <td>Etna</td>\n",
       "      <td>NaN</td>\n",
       "      <td>Kerin O’Keefe</td>\n",
       "      <td>@kerinokeefe</td>\n",
       "      <td>Nicosia 2013 Vulkà Bianco  (Etna)</td>\n",
       "      <td>White Blend</td>\n",
       "      <td>Nicosia</td>\n",
       "    </tr>\n",
       "    <tr>\n",
       "      <th>1</th>\n",
       "      <td>Portugal</td>\n",
       "      <td>This is ripe and fruity, a wine that is smooth...</td>\n",
       "      <td>Avidagos</td>\n",
       "      <td>87</td>\n",
       "      <td>15.0</td>\n",
       "      <td>Douro</td>\n",
       "      <td>NaN</td>\n",
       "      <td>NaN</td>\n",
       "      <td>Roger Voss</td>\n",
       "      <td>@vossroger</td>\n",
       "      <td>Quinta dos Avidagos 2011 Avidagos Red (Douro)</td>\n",
       "      <td>Portuguese Red</td>\n",
       "      <td>Quinta dos Avidagos</td>\n",
       "    </tr>\n",
       "    <tr>\n",
       "      <th>2</th>\n",
       "      <td>US</td>\n",
       "      <td>Tart and snappy, the flavors of lime flesh and...</td>\n",
       "      <td>NaN</td>\n",
       "      <td>87</td>\n",
       "      <td>14.0</td>\n",
       "      <td>Oregon</td>\n",
       "      <td>Willamette Valley</td>\n",
       "      <td>Willamette Valley</td>\n",
       "      <td>Paul Gregutt</td>\n",
       "      <td>@paulgwine</td>\n",
       "      <td>Rainstorm 2013 Pinot Gris (Willamette Valley)</td>\n",
       "      <td>Pinot Gris</td>\n",
       "      <td>Rainstorm</td>\n",
       "    </tr>\n",
       "    <tr>\n",
       "      <th>3</th>\n",
       "      <td>US</td>\n",
       "      <td>Pineapple rind, lemon pith and orange blossom ...</td>\n",
       "      <td>Reserve Late Harvest</td>\n",
       "      <td>87</td>\n",
       "      <td>13.0</td>\n",
       "      <td>Michigan</td>\n",
       "      <td>Lake Michigan Shore</td>\n",
       "      <td>NaN</td>\n",
       "      <td>Alexander Peartree</td>\n",
       "      <td>NaN</td>\n",
       "      <td>St. Julian 2013 Reserve Late Harvest Riesling ...</td>\n",
       "      <td>Riesling</td>\n",
       "      <td>St. Julian</td>\n",
       "    </tr>\n",
       "    <tr>\n",
       "      <th>4</th>\n",
       "      <td>US</td>\n",
       "      <td>Much like the regular bottling from 2012, this...</td>\n",
       "      <td>Vintner's Reserve Wild Child Block</td>\n",
       "      <td>87</td>\n",
       "      <td>65.0</td>\n",
       "      <td>Oregon</td>\n",
       "      <td>Willamette Valley</td>\n",
       "      <td>Willamette Valley</td>\n",
       "      <td>Paul Gregutt</td>\n",
       "      <td>@paulgwine</td>\n",
       "      <td>Sweet Cheeks 2012 Vintner's Reserve Wild Child...</td>\n",
       "      <td>Pinot Noir</td>\n",
       "      <td>Sweet Cheeks</td>\n",
       "    </tr>\n",
       "  </tbody>\n",
       "</table>\n",
       "</div>"
      ],
      "text/plain": [
       "    country                                        description  \\\n",
       "0     Italy  Aromas include tropical fruit, broom, brimston...   \n",
       "1  Portugal  This is ripe and fruity, a wine that is smooth...   \n",
       "2        US  Tart and snappy, the flavors of lime flesh and...   \n",
       "3        US  Pineapple rind, lemon pith and orange blossom ...   \n",
       "4        US  Much like the regular bottling from 2012, this...   \n",
       "\n",
       "                          designation  points  price           province  \\\n",
       "0                        Vulkà Bianco      87    NaN  Sicily & Sardinia   \n",
       "1                            Avidagos      87   15.0              Douro   \n",
       "2                                 NaN      87   14.0             Oregon   \n",
       "3                Reserve Late Harvest      87   13.0           Michigan   \n",
       "4  Vintner's Reserve Wild Child Block      87   65.0             Oregon   \n",
       "\n",
       "              region_1           region_2         taster_name  \\\n",
       "0                 Etna                NaN       Kerin O’Keefe   \n",
       "1                  NaN                NaN          Roger Voss   \n",
       "2    Willamette Valley  Willamette Valley        Paul Gregutt   \n",
       "3  Lake Michigan Shore                NaN  Alexander Peartree   \n",
       "4    Willamette Valley  Willamette Valley        Paul Gregutt   \n",
       "\n",
       "  taster_twitter_handle                                              title  \\\n",
       "0          @kerinokeefe                  Nicosia 2013 Vulkà Bianco  (Etna)   \n",
       "1            @vossroger      Quinta dos Avidagos 2011 Avidagos Red (Douro)   \n",
       "2           @paulgwine       Rainstorm 2013 Pinot Gris (Willamette Valley)   \n",
       "3                   NaN  St. Julian 2013 Reserve Late Harvest Riesling ...   \n",
       "4           @paulgwine   Sweet Cheeks 2012 Vintner's Reserve Wild Child...   \n",
       "\n",
       "          variety               winery  \n",
       "0     White Blend              Nicosia  \n",
       "1  Portuguese Red  Quinta dos Avidagos  \n",
       "2      Pinot Gris            Rainstorm  \n",
       "3        Riesling           St. Julian  \n",
       "4      Pinot Noir         Sweet Cheeks  "
      ]
     },
     "execution_count": 1,
     "metadata": {},
     "output_type": "execute_result"
    }
   ],
   "source": [
    "import scipy.stats as stats\n",
    "import pandas as pd\n",
    "import matplotlib.pyplot as plt\n",
    "import pylab\n",
    "%matplotlib inline\n",
    "\n",
    "\n",
    "df = pd.read_csv('wine-reviews/winemag-data-130k-v2.csv', index_col=0)\n",
    "df.head()"
   ]
  },
  {
   "cell_type": "markdown",
   "metadata": {},
   "source": [
    "### 1.1 数据摘要\n",
    "\n",
    "- 标称属性和数值属性"
   ]
  },
  {
   "cell_type": "code",
   "execution_count": 2,
   "metadata": {
    "ExecuteTime": {
     "end_time": "2019-03-28T07:52:14.709248Z",
     "start_time": "2019-03-28T07:52:14.637156Z"
    }
   },
   "outputs": [
    {
     "name": "stdout",
     "output_type": "stream",
     "text": [
      "Numeric fields: ['points' 'price']\n",
      "Nominal fields: ['country' 'description' 'designation' 'province' 'region_1' 'region_2'\n",
      " 'taster_name' 'taster_twitter_handle' 'title' 'variety' 'winery']\n"
     ]
    }
   ],
   "source": [
    "numeric_fields = df.select_dtypes(include=np.number).columns.values\n",
    "nominal_fields = df.select_dtypes(exclude=np.number).columns.values\n",
    "print('Numeric fields:', numeric_fields)\n",
    "print('Nominal fields:', nominal_fields)\n"
   ]
  },
  {
   "cell_type": "markdown",
   "metadata": {},
   "source": [
    "- 对标称属性，给出每个可能取值的频数"
   ]
  },
  {
   "cell_type": "code",
   "execution_count": 3,
   "metadata": {
    "ExecuteTime": {
     "end_time": "2019-03-28T07:52:17.101841Z",
     "start_time": "2019-03-28T07:52:16.420885Z"
    }
   },
   "outputs": [
    {
     "name": "stdout",
     "output_type": "stream",
     "text": [
      "country\n",
      "Argentina                  3800\n",
      "Armenia                       2\n",
      "Australia                  2329\n",
      "Austria                    3345\n",
      "Bosnia and Herzegovina        2\n",
      "Brazil                       52\n",
      "Bulgaria                    141\n",
      "Canada                      257\n",
      "Chile                      4472\n",
      "China                         1\n",
      "Croatia                      73\n",
      "Cyprus                       11\n",
      "Czech Republic               12\n",
      "Egypt                         1\n",
      "England                      74\n",
      "France                    22093\n",
      "Georgia                      86\n",
      "Germany                    2165\n",
      "Greece                      466\n",
      "Hungary                     146\n",
      "India                         9\n",
      "Israel                      505\n",
      "Italy                     19540\n",
      "Lebanon                      35\n",
      "Luxembourg                    6\n",
      "Macedonia                    12\n",
      "Mexico                       70\n",
      "Moldova                      59\n",
      "Morocco                      28\n",
      "New Zealand                1419\n",
      "Peru                         16\n",
      "Portugal                   5691\n",
      "Romania                     120\n",
      "Serbia                       12\n",
      "Slovakia                      1\n",
      "Slovenia                     87\n",
      "South Africa               1401\n",
      "Spain                      6645\n",
      "Switzerland                   7\n",
      "Turkey                       90\n",
      "US                        54504\n",
      "Ukraine                      14\n",
      "Uruguay                     109\n",
      "dtype: int64\n",
      "description\n",
      "\"Chremisa,\" the ancient name of Krems, is commemorated in this wine that comes from Krems vineyards. It has tight, tangy apple-driven acidity, with a bright, light, citrusy character. Not for aging.                                                                                                                                                                                                                                1\n",
      "$10 for this very drinkable Cab? That's crazy. But Line 39 is exactly that, a concentrated, juicy and fruity Cab with plenty of classic Cab tannins that's an incredibly good value and probably pretty easy to find. Scoop it up when you find it, though note that two bottles were tasted here with some bottle variation.                                                                                                         1\n",
      "$14 is a pretty good price for a Chardonnay that shows such ripe, succulent fruit. It's rich in oranges, pineapples, limes and mangoes, brightened with crisp acidity. Entirely unoaked, the finish is dry, pure and clean.                                                                                                                                                                                                           1\n",
      "). Earth, cola and leather aromas are good, however the fruit portion of the bouquet is a bit damp and roasted. The palate is hard and rugged, with driving cherry and plum flavors. Earthy and herbal on the finish.                                                                                                                                                                                                                 1\n",
      "). Light and lemony on the nose. The palate has some baby fat and flab, but it's acidic enough to have kick. Flavors of sweet, tropical fruits are candied and a touch chunky, referencing pineapple and mango. Drink right away.                                                                                                                                                                                                     1\n",
      "). Phillip Zull's offering in the light, fresh Grüner Veltliner stakes is as light and fresh as they come. It's a burst of fruitiness across the palate, starring bright citrus and green fruits, with bone-dry acidity. Screwcap.                                                                                                                                                                                                    1\n",
      "). Rubiolo is a soft and lush Chianti Classico with ripe fruit aromas backed by easy leather and tobacco. The wine shows nice lines and supple spice.                                                                                                                                                                                                                                                                                 1\n",
      "). Savory on the nose with scents of pressed apple and honey comb, this fairly dry Riesling is surprisingly round and rich on the palate with a lush, floral profile balanced by hints of wax and lanolin and a tart lime juice acidity.                                                                                                                                                                                              1\n",
      "). Very good wine from a winery increasingly known for its red varieties, and one of the best Cabernets ever to hail from this appellation. It shows a dry, distinguished tannin structure and the concentration of flavors typical of this warm, low-yielding region, with black currant intensity. Give it a decant and drink over the next six years.                                                                              1\n",
      "). Vineyard 7&8's Spring Mountain Estate Cabernets require aging to show their best, and so it is with this 2009. It's dry, tannic and unrewarding now due to its astringency and acidity. But it has a terrific heart of blackberries and minerals that's vast and rich—indicative of great growing conditions. It should begin to come into its own after 2015.                                                                     1\n",
      "). You'll want to cellar this young 100% Cab because it's not showing its full potential yet. Dry and tannic, it's very rich in black currants and blackberry jam, but all of the wine's parts need more time to fully integrate; currently, the oak is forward, the acids are tart and citrusy, and the tannins are fierce. Should improve over the next 10 years, maybe even 20.                                                    1\n",
      ". A delightfully intriguing “White Burgundy” blend of Chardonnay, Pinot Blanc and Pinot Meunier, the last an unexpected surprise, the fruit sourced from both the Sangiacomo and Yountmill vineyards. The wine is light and yet lush, with an inviting nose of sweet apricot and apple pie, and a roundness to the mouthfeel. This would pair nicely with a buttery halibut but also stand well on its own as an apéritif.            1\n",
      ". Is the fizziness supposed to be there, or is it a mistake? Either way, it's a low alcohol (only 4.5%), rather sweet but not super-sweet wine, with pleasant orange and vanilla honey flavors, like a fizzy soda.                                                                                                                                                                                                                    1\n",
      ". Its mouthfeel smacks hard with acidity, leaving a crisp expression of strawberry, raspberry and herb flavors. It turns warm, lactic and chocolaty on the finish.                                                                                                                                                                                                                                                                    1\n",
      ". Nice drinking wine, dry and silky, with generous berry and herb flavors and a tasteful touch of fine oak. That said, it's fuller-bodied than you'd expect, given the league it plays in. Seems to lack the delicacy and transparency that cool-weather Pinot typically achieves. —S.H.                                                                                                                                              1\n",
      ". Racy and strong, and comes down firmly on the grass, hay and grapefruit side, brimming with bright, tart fruit. A touch of sugar puts it just this side of sweet, with an intriguing taste of white chocolate on the finish. Gets the nod because it's so ultra-clean and zesty. —S.H.                                                                                                                                              1\n",
      ". Recent vintages have left Bordeaux with an alcohol problem, as seen in this wine. The saving grace is the essential Cabernet Sauvignon structure and acidity that keeps the ripe Merlot in balance.                                                                                                                                                                                                                                 1\n",
      ". The winery's above-the-fog vineyard has been kind to Merlot, nearly always producing an interesting wine. The '05, from such a cool vintage, has given crisp, firm tannins, but long hangtime allowed the grapes to develop luscious blackberry flavors, which smoky oak perfectly accents. A wine of charm and depth; should develop bottle complexity over the next 6 years.                                                      1\n",
      ". There's a compact, traditional characteristic here that gives this wine smooth, sophisticated appeal. Aromas include white cherry, dried raspberry, tar, licorice and root beer. Twenty percent Malvasia Nera is added to the blend.                                                                                                                                                                                                1\n",
      ". This excellent wine, which is made from the five classic Bordeaux varieties, shows the briary, tannic quality of Dry Creek Valley red wines. It's a lusty, complex sipper with quite a lot of character and personality, and should provide good drinking over the next six years or so.                                                                                                                                            1\n",
      ". This rich and opulent blend of Cabernet Sauvignon, Merlot and Petit Verdot delivers an intense bouquet of chocolate, cherry, blackberry, spice, nutmeg and polished stone. The wine ends with firm, biting tannins and flavors of chocolate essence. Give it three to five years of bottle aging.                                                                                                                                   1\n",
      ". Unfortunately, 1998 was not 1997, when this bottling was very good. This vintage is less ripe, and so the wine has some green aromas and flavors, in addition to  blackberry. That makes the tannins stick out more. There's nothing to contain them, but if you pair it with the right, rich foods, it will be just fine. —S.H.                                                                                                    1\n",
      "100% Cabernet Sauvignon all coming from Alder Ridge Vineyard, it has notes of cherry and dried herbs. The tannins are dry with a cranberry filled finish.                                                                                                                                                                                                                                                                             1\n",
      "100% Cabernet Sauvignon from Kiona. Though a bit light for Red Mountain fruit, this is flavorful and shows some complexity. It marries tart red berries with streaks of tar, iodine and licorice, then moves into barrel flavors of mocha and butterscotch. The acids are sharp and feel adjusted, but may smooth out with a bit more bottle age.                                                                                     1\n",
      "100% Cabernet Sauvignon from Wallula Vineyard, this brooding wine screams of the Horse Heaven Hills with notes of dusty earth, black currant, and bittersweet chocolate. It's tightly coiled and largely about structure with its firm tannins supporting concentrated cherry flavors. Needs time to come into its own but has the stuffing to lay down for a decade or more.                                                         1\n",
      "100% Cabernet Sauvignon from a variety of vineyards across eastern Washington, it seems a bit muddled with light notes of cherry, chocolate, and oak spice but may improve with some additional time in bottle.                                                                                                                                                                                                                       1\n",
      "100% Cabernet Sauvignon, this opens with aromas of cassis, cedar, tobacco and dried Mediterranean herbs. The concentrated palate delivers licorice, black currants, dried plum, coffee, clove and chocolate alongside bracing but fine-grained tannins. Drink through 2016–2022.                                                                                                                                                      1\n",
      "100% Malbec, it's redolent with dark plums, wild blueberries and peppery spices. The soft, silky flavors are light but have good concentration with the oak (80% American) seeming quite dialed back.                                                                                                                                                                                                                                 2\n",
      "100% Merlot from Hedges North Block on Red Mountain. It's light, spicy and simple, without the muscle and verve of the state's best Merlots. The fruit is forward, crisply defined, and tastes like fresh raspberries, with some sharp-edged tannins.                                                                                                                                                                                 1\n",
      "100% Mourvèdre from the Ciel du Cheval vineyard, this unusual wine has a distinctive, barky, herbal note. At first it seems to be missing something in the middle, but it's just the dryness of the tannins and the spicy, herbal nature of the raspberry and pomegranate flavored fruit. It actually extends beautifully through a very satisfying and lengthy finish.                                                               1\n",
      "                                                                                                                                                                                                                                                                                                                                                                                                                                     ..\n",
      "“Bolle,” which is Italian for “bubbles,” plays up its cheerful and playful side with bright aromas of citrus, peach, passion fruit and green apple. It washes down easily thanks to the wine's natural acidity.                                                                                                                                                                                                                       1\n",
      "“Califa” is a Native American word meaning the prettiest one, and that's what winemaker Fintan du Fresne delivers in this estate-grown wine. The lovely nose is spun tightly around citrus, white roses and limestone, while the well-integrated palate offers a touch of jasmine followed by apple elements that arise in the midpalate. Serve with shrimp paella.                                                                   1\n",
      "“Close to the stars” is the motto of this Dubois family's wine, which is soft and fruity. A peppery edge from Mourvèdre in the blend contrasts with the attractive acidity and red fruit in the background. It is a food style of rosé.                                                                                                                                                                                               1\n",
      "“Cocina” means “the kitchen” in Spanish, and this blend of Malbec, Bonarda and Syrah is definitely a kitchen-sink type of wine. It's stout, a bit reduced and tinny at first, but with air it turns into a nice, simple chunkster with plump baked-fruit flavors and a soft but structured chocolaty finish. Drink now.                                                                                                               1\n",
      "“Delicate” is how owner-winemaker Larry McKenna describes Pahi, and that seems apt. It's smoky and vaguely herbal, hinting at tomato, then offers cherry fruit and soft, gentle tea-like tannins that turn silky on the finish. Drink now–2021.                                                                                                                                                                                       1\n",
      "“Fresh and dry” is what the wine label advertises and is exactly what it delivers. It's a simple wine with tones of delicate kiwi, fresh fruit and some soapy floral aromas. In the mouth, it is compact and racy with a lean, spicy finish.                                                                                                                                                                                          2\n",
      "“Frizzante” refers to the slightly softer and less intense quality of the bubbles in this Italian sparkling wine. As tradition dictates, the bottle is closed with white string instead of a metal capsule. This offers subtle aromas of peach and citrus.                                                                                                                                                                            1\n",
      "“Gas station” isn't necessarily the most attractive fine-wine descriptor, but it's both apt and complimentary for a dry Riesling. This one reeks of petrol and tar. On the palate, a warm tar presence slowly evolves toward vanilla. A vibrant, tingling acidity indicates decent cellaring potential. At the very least, this is a great wine to show your friends how petrol can be a defining and excellent character in wine.    1\n",
      "“I am Gaia, I am not Lucrezia” is a fantastical expression of Pecorino (an exciting native variety found in Central Italy) that shows extreme sophistication and balance with bright aromas of peach, melon and lemon curd. The wine is soft and round on the long finish.                                                                                                                                                            1\n",
      "“Il Bugiardo,” which is Italian for “the liar,” is an honest and plump wine, with soft berry aromas that are woven into spicy notes of clove, black pepper, leather and tobacco. The finish is velvety and smooth.                                                                                                                                                                                                                    2\n",
      "“Il Re Pazzo,” which is Italian for “the crazy king,” delivers a cheerful berry note, with enough spice, tobacco and leather tones to give the wine heft and staying power. The sharp note of acidity would make this pair well with cheesy pasta.                                                                                                                                                                                    1\n",
      "“Les Faisses,” meaning “terraces” in Occitan, refers to the vineyards overlooking the Heurault from which this wine was sourced. 60% Grenache and 40% Syrah, this is a vibrant, fruit-forward wine with ripe fruit characteristics of blueberry, raspberry and cherry along with accents of garrigue herbs and soft pepper. An easy-to-drink, ready-to-please wine at an attractive price.                                            1\n",
      "“Light” is misleading, because this really isn't a light fino at all. In fact, it's rather heavy and clunky, with a salty undercurrent to its lemon and nut flavors. Tastes more cooked than ideal.                                                                                                                                                                                                                                   1\n",
      "“M” stands for Monumental, and at 15% this is definitely a powered wine. The Pichlers wait to get the ripest healthy grapes, and the result is a big, opulent wine, with pineapple and mango flavors. Some acidity remains in all this rococo extravaganza.                                                                                                                                                                           1\n",
      "“No oak/No malo” the label proclaims, as if to challenge you to like it anyway. What's not to like? Fresh, leesy notes cleanse the palate, and set up the palate for the mix of melon, blood orange and pineapple that defines the flavors. Without any oak or buttery malo, what persists is the vivid, supple acidity.                                                                                                              1\n",
      "“Nu” seems to be Kunde's way of letting us know that this is an unoaked Chardonnay. It shows pure, untrammelled Chard flavors of green apples, peaches, pears, kiwis and limes. It's also a very crisp wine, as it did not undergo the malolactic fermentation.                                                                                                                                                                       1\n",
      "“Old vines” means different things to different people. In this case, the fruit comes from vines that average 25–30 years old in the Côtes du Bourg and the Côtes du Blaye. The wine is fruit-focused (black cherries and cassis) but relatively light-bodied, finishing with lemony acids.                                                                                                                                           1\n",
      "“Open and drink” the instructions should read, as this smooth and luscious wine is best enjoyed young. Half was barrel-fermented, yielding flavors of caramel, almond paste and buttered nuts. Pair with leek, bacon and potato soup, says the winery, which sounds just about perfect.                                                                                                                                               2\n",
      "“Open, pour, drink” is the message behind Trie, also a blend of 3 grapes. It's lively, fresh, almost Beaujolais-like in its juicy, fruity, red berry character. Ripe, soft, just a hint of spice.                                                                                                                                                                                                                                     1\n",
      "“Piano... Piano” means “easy... easy” in Italian—and this pretty rosé indeed delivers informality and friendliness. The wine is packaged with a glass cork, and the bouquet offers bright tones of raspberry and citrus.                                                                                                                                                                                                              1\n",
      "“Rhône times three” seems to be the code name for this classy blend of Grenache, Mourvèdre and Syrah. It takes the best from each grape, creating a rich, pure, high-acid wine with a zingy berry flavor, plus a mineral underpinning and earthy, coffee-soaked tannins.                                                                                                                                                              1\n",
      "“Rich” doesn't even begin to describe this Pinot. The fruit is front and center, blasting off with raspberries and cherries imposingly rich and sweet. Flavor is the star, at the cost of complexity. Drink now.                                                                                                                                                                                                                      1\n",
      "“Roble” means oak and there's no shortage of oak on this youngster. The nose smells almost like melted cheese and bread at first, but then it settles and lets out subtle leather and fruit aromas. The palate is juicy and fresh, with forward black cherry and plum flavors. Definitely lively, and with no tricks up its sleeve.                                                                                                   1\n",
      "“Sangue Blu,” which translates to “blue blood,” offers sun-drenched aromas of ripe fruit and rum cake that are backed by tobacco and sweet Indian spice notes. The mouthfeel is textured, gritty and rich.                                                                                                                                                                                                                            1\n",
      "“Swan Song” indicates that this is the last vintage of Cabernet to be produced from this vineyard block. So enjoy it while it's here: There's plenty of dry black cherry, licorice, cola and smoked meat, and dusty tannins with nice grip close the show. Our critique is that this is an excellent finalé.                                                                                                                          1\n",
      "“Terre Nobili,” which is Italian for “noble lands,” is a blend of 70% Cabernet Sauvignon with Merlot and Refosco. Aged for 24 months in oak, it opens with bright fruit intensity, bearing notes of spice, rosemary and tobacco. The mouthfeel is acidic, making it a good choice to enjoy with cheesy lasagna with béchamel sauce.                                                                                                   1\n",
      "“The Affair” refers to the relationship between the French and Italian varieties in the blend. Sadly, this isn't the hottest affair, with the strong game, red currant, strawberry hull, milk chocolate and smoky dried salami notes all downplayed by the lean mouth and waxy finish.                                                                                                                                                1\n",
      "“Three winds” is a new product from a top Prosecco producer. Packaged in an elegant and understated bottle, this Italian sparkler is ideal for light lunches or outdoor appetizers. The interesting aromas include dried flowers, citrus and a very subtle touch of spicy clove.                                                                                                                                                      1\n",
      "“Today, as in the past,” reads the title of this wine. Rich and full, it was aged on the lees to give extra weight and body. The result is ripe with yellow fruits as well as citrus, with full-bodied flavor. It could well age until 2015.                                                                                                                                                                                          1\n",
      "“Wow” is the first word that comes to mind when tasting this superconcentrated and immensely fruity wine. It practically overwhelms the nose and the palate with ripe, jammy boysenberry and blackberry, sprinkled with licorice and black-pepper nuances that add attractive complexity. It's a big wine all the way, but not extreme in alcohol.                                                                                    1\n",
      "Length: 119955, dtype: int64\n",
      "designation\n",
      "#19 Phantom Limb Belmont Vineyard                            1\n",
      "#50 Mon Chou                                                 1\n",
      "#SocialSecret                                                2\n",
      "%@#$!                                                        1\n",
      "&                                                            2\n",
      "'61 Rosé                                                     1\n",
      "'A Rina                                                      1\n",
      "'Blend 105' Red Wine                                         1\n",
      "'Na Vota                                                     2\n",
      "'P'                                                          1\n",
      "'S'                                                          1\n",
      "'Unfiltered'                                                 1\n",
      "'Vie!'                                                       1\n",
      "'l Clumbé                                                    1\n",
      "(+)                                                          1\n",
      "(Steen)                                                      1\n",
      "*%#&@!                                                       1\n",
      "+ Brut Metodo Classico                                       1\n",
      "+ Summa  Varietals Syrah-Cabernet Sauvignon-Petit Verdot     1\n",
      "+7                                                           2\n",
      "0 Degree Dry                                                 1\n",
      "0 Degrees of Riesling Dry                                    1\n",
      "0,618                                                        1\n",
      "0.5 Brix                                                     1\n",
      "006 Riverside Estate                                         3\n",
      "01                                                           1\n",
      "075 Carati                                                   4\n",
      "075 Carati Brut                                              1\n",
      "075 Carati Extra Dry                                         3\n",
      "075 Carati Rosé Cuvee Dry                                    2\n",
      "                                                            ..\n",
      "Étoile Rosé                                                  4\n",
      "Ìchore                                                       1\n",
      "Ñeque                                                        1\n",
      "Òlbia                                                        2\n",
      "Òtre                                                         2\n",
      "Ópera Prima                                                  1\n",
      "Óscar Tobía Reserva                                          1\n",
      "Öreg Kiraly Dulo Mad                                         2\n",
      "Öreg Király Dűlő Tokaji Szamorodni                           1\n",
      "Único                                                        1\n",
      "Über                                                         3\n",
      "Über Cuvée                                                   2\n",
      "Ürziger Goldwingert                                          1\n",
      "Ürziger Goldwingert Spätlese                                 4\n",
      "Ürziger Würzgarten Alte Reben GG Dry                         1\n",
      "Ürziger Würzgarten Alte Reben GG Trocken                     3\n",
      "Ürziger Würzgarten Auslese                                   7\n",
      "Ürziger Würzgarten Auslese * * * Goldkap                     1\n",
      "Ürziger Würzgarten Beerenauslese                             2\n",
      "Ürziger Würzgarten GG Réserve Alte Reben Erste Lage Dry      2\n",
      "Ürziger Würzgarten Kabinett                                 10\n",
      "Ürziger Würzgarten Spätlese                                  9\n",
      "étoile Brut                                                  1\n",
      "étoile Rosé                                                  1\n",
      "Župska                                                       2\n",
      "‘Rough Justice' Red                                          1\n",
      "‘S'                                                          1\n",
      "“Champ” Jim the Gent                                         1\n",
      "“Champ” Lightnin' Lane                                       1\n",
      "“P”                                                          1\n",
      "Length: 37979, dtype: int64\n",
      "province\n",
      "Achaia                          5\n",
      "Aconcagua Costa                27\n",
      "Aconcagua Valley              116\n",
      "Aegean                         22\n",
      "Agioritikos                     3\n",
      "Ahr                             9\n",
      "Alenquer                        7\n",
      "Alentejano                    937\n",
      "Alentejo                      182\n",
      "Alenteo                         1\n",
      "Algarve                         9\n",
      "Alsace                       2440\n",
      "America                        95\n",
      "Amindeo                         2\n",
      "Amyndeon                        5\n",
      "Andalucia                     189\n",
      "Ankara                         18\n",
      "Apalta                         12\n",
      "Arcadia                         1\n",
      "Arizona                        41\n",
      "Armenia                         2\n",
      "Atalanti Valley                14\n",
      "Atlantida                       5\n",
      "Attica                          6\n",
      "Australia Other               245\n",
      "Austria                        26\n",
      "Awatere Valley                 27\n",
      "Baden                          62\n",
      "Bairrada                      167\n",
      "Beaujolais                   1044\n",
      "                             ... \n",
      "Vinho Verde                   410\n",
      "Vinho da Mesa                   1\n",
      "Vipavska Dolina                12\n",
      "Virginia                      777\n",
      "Vlootenburg                     1\n",
      "Vânju Mare                      2\n",
      "Wachau                        353\n",
      "Wagram                         65\n",
      "Wagram-Donauland               56\n",
      "Waiheke Island                 10\n",
      "Waipara                        25\n",
      "Waipara Valley                 16\n",
      "Wairarapa                      12\n",
      "Wairau Valley                  11\n",
      "Waitaki Valley                  2\n",
      "Walker Bay                     19\n",
      "Washington                   8639\n",
      "Washington-Oregon               7\n",
      "Weinland Österreich            18\n",
      "Weinviertel                   100\n",
      "Wellington                     23\n",
      "Western Australia             286\n",
      "Western Cape                  281\n",
      "Wiener Gemischter Satz         28\n",
      "Württemberg                    22\n",
      "Zenata                         19\n",
      "Österreichischer Perlwein       4\n",
      "Österreichischer Sekt          66\n",
      "Štajerska                      22\n",
      "Župa                            8\n",
      "Length: 425, dtype: int64\n",
      "region_1\n",
      "Abruzzo                             6\n",
      "Adelaida District                 110\n",
      "Adelaide                           16\n",
      "Adelaide Hills                    107\n",
      "Adelaide Plains                     4\n",
      "Aglianico d'Irpinia                 1\n",
      "Aglianico del Beneventano           2\n",
      "Aglianico del Taburno              13\n",
      "Aglianico del Vulture              90\n",
      "Agrelo                             50\n",
      "Albana di Romagna                   7\n",
      "Alcamo                              7\n",
      "Aleatico dell'Elba                  1\n",
      "Alella                             24\n",
      "Alexander Valley                  784\n",
      "Alghero                             4\n",
      "Alicante                           86\n",
      "Almansa                            21\n",
      "Aloxe-Corton                       34\n",
      "Alpilles                            3\n",
      "Alpine Valleys                      2\n",
      "Alsace                           2163\n",
      "Alta Langa                         28\n",
      "Alta Mesa                           9\n",
      "Alta Valle della Greve              4\n",
      "Alto Adige                        694\n",
      "Alto Adige Terlano                 10\n",
      "Alto Adige Valle Isarco            40\n",
      "Alto Valle del Río Negro           24\n",
      "Altos de Mendoza                    1\n",
      "                                 ... \n",
      "Vinos de Madrid                    10\n",
      "Virginia                          556\n",
      "Virginia's Eastern Shore            5\n",
      "Viré-Clessé                        49\n",
      "Vista Flores                       20\n",
      "Vittoria                           24\n",
      "Vittoria Frappato                   6\n",
      "Volnay                             78\n",
      "Vosne-Romanée                      58\n",
      "Vougeot                             7\n",
      "Vouvray                           153\n",
      "Wahluke Slope                     348\n",
      "Walla Walla Valley (OR)           119\n",
      "Walla Walla Valley (WA)          1066\n",
      "Washington                        440\n",
      "Western Australia                  61\n",
      "Western Connecticut Highlands       3\n",
      "Western Plains                      2\n",
      "Willamette Valley                2301\n",
      "Wrattonbully                        6\n",
      "Yadkin Valley                       5\n",
      "Yakima Valley                     997\n",
      "Yamhill County                      2\n",
      "Yarra Valley                      111\n",
      "Yecla                              24\n",
      "Yolo County                        47\n",
      "York Mountain                       9\n",
      "Yorkville Highlands                79\n",
      "Yountville                         92\n",
      "Zonda Valley                        3\n",
      "Length: 1229, dtype: int64\n",
      "region_2\n",
      "California Other      2663\n",
      "Central Coast        11065\n",
      "Central Valley        1062\n",
      "Columbia Valley       8103\n",
      "Finger Lakes          1777\n",
      "Long Island            680\n",
      "Napa                  6814\n",
      "Napa-Sonoma           1169\n",
      "New York Other         231\n",
      "North Coast            584\n",
      "Oregon Other           727\n",
      "Sierra Foothills      1462\n",
      "Sonoma                9028\n",
      "South Coast            272\n",
      "Southern Oregon        917\n",
      "Washington Other       534\n",
      "Willamette Valley     3423\n",
      "dtype: int64\n",
      "taster_name\n",
      "Alexander Peartree      415\n",
      "Anna Lee C. Iijima     4415\n",
      "Anne Krebiehl MW       3685\n",
      "Carrie Dykes            139\n",
      "Christina Pickard         6\n",
      "Fiona Adams              27\n",
      "Jeff Jenssen            491\n",
      "Jim Gordon             4177\n",
      "Joe Czerwinski         5147\n",
      "Kerin O’Keefe         10776\n",
      "Lauren Buzzeo          1835\n",
      "Matt Kettmann          6332\n",
      "Michael Schachner     15134\n",
      "Mike DeSimone           514\n",
      "Paul Gregutt           9532\n",
      "Roger Voss            25514\n",
      "Sean P. Sullivan       4966\n",
      "Susan Kostrzewa        1085\n",
      "Virginie Boone         9537\n",
      "dtype: int64\n",
      "taster_twitter_handle\n",
      "@AnneInVino          3685\n",
      "@JoeCz               5147\n",
      "@bkfiona               27\n",
      "@gordone_cellars     4177\n",
      "@kerinokeefe        10776\n",
      "@laurbuzz            1835\n",
      "@mattkettmann        6332\n",
      "@paulgwine           9532\n",
      "@suskostrzewa        1085\n",
      "@vboone              9537\n",
      "@vossroger          25514\n",
      "@wawinereport        4966\n",
      "@wineschach         15134\n",
      "@winewchristina         6\n",
      "@worldwineguys       1005\n",
      "dtype: int64\n"
     ]
    },
    {
     "name": "stdout",
     "output_type": "stream",
     "text": [
      "title\n",
      "1+1=3 2008 Rosé Cabernet Sauvignon (Penedès)                                             1\n",
      "1+1=3 NV Brut Sparkling (Cava)                                                           2\n",
      "1+1=3 NV Cygnus Brut Nature Reserva Made With Organic Grapes Sparkling (Cava)            2\n",
      "1+1=3 NV Rosé Sparkling (Cava)                                                           1\n",
      "10 Knots 2006 Beachcomber White (Paso Robles)                                            1\n",
      "10 Knots 2006 Chardonnay (Santa Barbara County)                                          1\n",
      "10 Knots 2009 Moonraker Grenache (Paso Robles)                                           1\n",
      "10 Knots 2010 Viognier (Paso Robles)                                                     1\n",
      "100 Percent Wine 2012 All Profits to Charity Red (California)                            1\n",
      "100 Percent Wine 2014 All Profits to Charity Sauvignon Blanc (California)                1\n",
      "100 Percent Wine 2015 Moscato (California)                                               1\n",
      "1000 Stories 2013 Bourbon Barrel Aged Zinfandel (Mendocino)                              1\n",
      "1000 Stories 2014 Bourbon Barrel Aged Batch No 13 Zinfandel (California)                 1\n",
      "1070 Green 2011 Sauvignon Blanc (Rutherford)                                             1\n",
      "10Span 2011 Pinot Noir (Santa Barbara County)                                            1\n",
      "10Span 2012 Chardonnay (Santa Barbara County)                                            1\n",
      "10Span 2012 Pinot Gris (Monterey County)                                                 1\n",
      "10Span 2013 Pinot Noir (Central Coast)                                                   1\n",
      "12 Linajes 2000 Reserva  (Ribera del Duero)                                              1\n",
      "12 Linajes 2009 Reserva  (Ribera del Duero)                                              1\n",
      "12 Linajes 2010 Reserva  (Ribera del Duero)                                              1\n",
      "12 Linajes 2011 Reserva  (Ribera del Duero)                                              1\n",
      "12 Linajes 2012 Crianza  (Ribera del Duero)                                              1\n",
      "12 Linajes 2014 Verdejo (Rueda)                                                          1\n",
      "12 Linajes 2015 Verdejo (Rueda)                                                          1\n",
      "12 Linajes 2016 Verdejo (Rueda)                                                          1\n",
      "12C Wines 2012 Beckstoffer Vineyard  Georges III Cabernet Sauvignon (Rutherford)         1\n",
      "12C Wines 2012 G3 Beckstoffer Vineyard Georges III Cabernet Sauvignon (Rutherford)       1\n",
      "12C Wines 2013 Beckstoffer Vineyard Georges III Cabernet Sauvignon (Rutherford)          1\n",
      "12C Wines 2013 Beckstoffer Vineyard Georges III G3 Cabernet Sauvignon (Rutherford)       1\n",
      "                                                                                        ..\n",
      "àMaurice 2009 Syrah (Columbia Valley (WA))                                               1\n",
      "àMaurice 2009 Viognier (Columbia Valley (WA))                                            1\n",
      "àMaurice 2010 Amparo Estate Malbec (Walla Walla Valley (WA))                             1\n",
      "àMaurice 2010 Boushey Vineyard Syrah-Grenache (Yakima Valley)                            1\n",
      "àMaurice 2010 Conner Lee Vineyard Chardonnay (Columbia Valley (WA))                      1\n",
      "àMaurice 2010 Gamache Vineyard Malbec (Columbia Valley (WA))                             1\n",
      "àMaurice 2010 Night Owl Red (Walla Walla Valley (WA))                                    1\n",
      "àMaurice 2010 Owl & Crown Cabernet Sauvignon (Walla Walla Valley (WA))                   1\n",
      "àMaurice 2010 Sparrow Viognier (Walla Walla Valley (WA))                                 1\n",
      "àMaurice 2011 Amparo Estate Malbec (Walla Walla Valley (WA))                             1\n",
      "àMaurice 2011 Boushey Vineyard Syrah (Yakima Valley)                                     1\n",
      "àMaurice 2011 Fred Estate Syrah (Walla Walla Valley (WA))                                1\n",
      "àMaurice 2011 Gamache Vineyard Malbec (Columbia Valley (WA))                             1\n",
      "àMaurice 2011 Owl & Crown Cabernet Sauvignon (Walla Walla Valley (WA))                   1\n",
      "àMaurice 2011 Red (Columbia Valley (WA))                                                 1\n",
      "àMaurice 2012 Fred Estate Syrah (Walla Walla Valley (WA))                                1\n",
      "àMaurice 2012 Gamache Vineyard Malbec (Columbia Valley (WA))                             1\n",
      "àMaurice 2012 William Ivey Red (Columbia Valley (WA))                                    1\n",
      "àMaurice 2013 Anne Martin McCool Red (Columbia Valley (WA))                              1\n",
      "àMaurice 2013 Fred Estate Syrah (Walla Walla Valley (WA))                                1\n",
      "àMaurice 2013 Night Owl Estate Red (Walla Walla Valley (WA))                             1\n",
      "àMaurice 2013 Owl & Crown Estate Reserve Cabernet Sauvignon (Walla Walla Valley (WA))    1\n",
      "àMaurice 2013 Sparrow Estate Viognier Viognier (Walla Walla Valley (WA))                 1\n",
      "àMaurice 2014 Boushey Vineyard Marsanne-Viognier (Yakima Valley)                         1\n",
      "àMaurice 2014 Boushey Vineyard Syrah (Yakima Valley)                                     1\n",
      "àMaurice 2014 Fred Estate Syrah (Walla Walla Valley (WA))                                1\n",
      "àMaurice NV Pour Me Red (Columbia Valley (WA))                                           1\n",
      "Štoka 2009 Izbrani Teran (Kras)                                                          1\n",
      "Štoka 2011 Grganja Vitovska (Kras)                                                       1\n",
      "Štoka 2011 Izbrani Teran (Kras)                                                          1\n",
      "Length: 118840, dtype: int64\n",
      "variety\n",
      "Abouriou                     3\n",
      "Agiorgitiko                 63\n",
      "Aglianico                  359\n",
      "Aidani                       1\n",
      "Airen                        3\n",
      "Albana                      23\n",
      "Albanello                    1\n",
      "Albariño                   477\n",
      "Albarossa                    2\n",
      "Aleatico                     5\n",
      "Alfrocheiro                 16\n",
      "Alicante                     5\n",
      "Alicante Bouschet           50\n",
      "Aligoté                     30\n",
      "Alsace white blend          51\n",
      "Altesse                      8\n",
      "Alvarelhão                   2\n",
      "Alvarinho                  137\n",
      "Alvarinho-Chardonnay         5\n",
      "Ansonica                     2\n",
      "Antão Vaz                   17\n",
      "Apple                        2\n",
      "Aragonez                    10\n",
      "Aragonês                    10\n",
      "Argaman                      3\n",
      "Arinto                      77\n",
      "Arneis                      86\n",
      "Asprinio                     3\n",
      "Assyrtico                   43\n",
      "Assyrtiko                   18\n",
      "                          ... \n",
      "Viognier-Marsanne            3\n",
      "Viognier-Roussanne           7\n",
      "Viognier-Valdiguié           1\n",
      "Viosinho                     5\n",
      "Vital                        1\n",
      "Vitovska                     3\n",
      "Viura                      107\n",
      "Viura-Chardonnay            13\n",
      "Viura-Verdejo                2\n",
      "Vranac                       1\n",
      "Vranec                       4\n",
      "Weissburgunder              47\n",
      "Welschriesling              25\n",
      "White Blend               2360\n",
      "White Port                   2\n",
      "White Riesling              13\n",
      "Xarel-lo                    21\n",
      "Xinisteri                    1\n",
      "Xinomavro                   33\n",
      "Xynisteri                    2\n",
      "Yapincak                     2\n",
      "Zelen                        1\n",
      "Zibibbo                     31\n",
      "Zierfandler                 16\n",
      "Zierfandler-Rotgipfler       5\n",
      "Zinfandel                 2714\n",
      "Zlahtina                     2\n",
      "Zweigelt                   209\n",
      "Çalkarası                    2\n",
      "Žilavka                      1\n",
      "Length: 707, dtype: int64\n",
      "winery\n",
      "1+1=3                    6\n",
      "10 Knots                 4\n",
      "100 Percent Wine         3\n",
      "1000 Stories             2\n",
      "1070 Green               1\n",
      "10Span                   4\n",
      "12 Linajes               8\n",
      "12C Wines                5\n",
      "13 Celsius               1\n",
      "14 Hands                67\n",
      "16X20                    2\n",
      "1752 Signature Wines     1\n",
      "1789 Wines               1\n",
      "181                      1\n",
      "18401 Cellars            5\n",
      "1848 Winery              6\n",
      "1850                     3\n",
      "19 Crimes                1\n",
      "1912 Winemakers          8\n",
      "2 Copas                  1\n",
      "2 Lads                   7\n",
      "2 Up                     4\n",
      "21 Grams                 2\n",
      "24 Knots                 1\n",
      "240 Days                 3\n",
      "25 Lagunas               1\n",
      "29 & Oak Wines           5\n",
      "2Hawk                    7\n",
      "2Plank                   6\n",
      "2nd Chance               3\n",
      "                        ..\n",
      "histoire                 1\n",
      "iNapa Wine               1\n",
      "j.brix                   3\n",
      "kukkula                 10\n",
      "l'Escargot               1\n",
      "m2 Wines                 1\n",
      "majoros                  2\n",
      "next:                    1\n",
      "noblet                   1\n",
      "oops                    13\n",
      "pb                       1\n",
      "the Ghost of 413         2\n",
      "un4seen                  5\n",
      "una.wine                 3\n",
      "Ànima Negra             14\n",
      "Áldás                    1\n",
      "Árido                    5\n",
      "Áster                    1\n",
      "Çamlibağ                 2\n",
      "Ébano                    3\n",
      "Écluse                  21\n",
      "Élevée Winegrowers       3\n",
      "Éric & Jöel Durand       4\n",
      "Ïl Macchione             2\n",
      "Ñandú                    1\n",
      "Órale                    1\n",
      "Öko                      2\n",
      "Ökonomierat Rebholz      4\n",
      "àMaurice                40\n",
      "Štoka                    3\n",
      "Length: 16757, dtype: int64\n"
     ]
    }
   ],
   "source": [
    "for name in nominal_fields:\n",
    "    print(df.groupby(name).size())"
   ]
  },
  {
   "cell_type": "markdown",
   "metadata": {},
   "source": [
    "- 数值属性，给出最大、最小、均值、中位数、四分位数及缺失值的个数。"
   ]
  },
  {
   "cell_type": "code",
   "execution_count": 4,
   "metadata": {
    "ExecuteTime": {
     "end_time": "2019-03-28T07:52:17.710137Z",
     "start_time": "2019-03-28T07:52:17.667758Z"
    }
   },
   "outputs": [
    {
     "data": {
      "text/html": [
       "<div>\n",
       "<style scoped>\n",
       "    .dataframe tbody tr th:only-of-type {\n",
       "        vertical-align: middle;\n",
       "    }\n",
       "\n",
       "    .dataframe tbody tr th {\n",
       "        vertical-align: top;\n",
       "    }\n",
       "\n",
       "    .dataframe thead th {\n",
       "        text-align: right;\n",
       "    }\n",
       "</style>\n",
       "<table border=\"1\" class=\"dataframe\">\n",
       "  <thead>\n",
       "    <tr style=\"text-align: right;\">\n",
       "      <th></th>\n",
       "      <th>points</th>\n",
       "      <th>price</th>\n",
       "    </tr>\n",
       "  </thead>\n",
       "  <tbody>\n",
       "    <tr>\n",
       "      <th>count</th>\n",
       "      <td>129971.000000</td>\n",
       "      <td>120975.000000</td>\n",
       "    </tr>\n",
       "    <tr>\n",
       "      <th>mean</th>\n",
       "      <td>88.447138</td>\n",
       "      <td>35.363389</td>\n",
       "    </tr>\n",
       "    <tr>\n",
       "      <th>std</th>\n",
       "      <td>3.039730</td>\n",
       "      <td>41.022218</td>\n",
       "    </tr>\n",
       "    <tr>\n",
       "      <th>min</th>\n",
       "      <td>80.000000</td>\n",
       "      <td>4.000000</td>\n",
       "    </tr>\n",
       "    <tr>\n",
       "      <th>25%</th>\n",
       "      <td>86.000000</td>\n",
       "      <td>17.000000</td>\n",
       "    </tr>\n",
       "    <tr>\n",
       "      <th>50%</th>\n",
       "      <td>88.000000</td>\n",
       "      <td>25.000000</td>\n",
       "    </tr>\n",
       "    <tr>\n",
       "      <th>75%</th>\n",
       "      <td>91.000000</td>\n",
       "      <td>42.000000</td>\n",
       "    </tr>\n",
       "    <tr>\n",
       "      <th>max</th>\n",
       "      <td>100.000000</td>\n",
       "      <td>3300.000000</td>\n",
       "    </tr>\n",
       "    <tr>\n",
       "      <th>miss</th>\n",
       "      <td>0.000000</td>\n",
       "      <td>8996.000000</td>\n",
       "    </tr>\n",
       "  </tbody>\n",
       "</table>\n",
       "</div>"
      ],
      "text/plain": [
       "              points          price\n",
       "count  129971.000000  120975.000000\n",
       "mean       88.447138      35.363389\n",
       "std         3.039730      41.022218\n",
       "min        80.000000       4.000000\n",
       "25%        86.000000      17.000000\n",
       "50%        88.000000      25.000000\n",
       "75%        91.000000      42.000000\n",
       "max       100.000000    3300.000000\n",
       "miss        0.000000    8996.000000"
      ]
     },
     "execution_count": 4,
     "metadata": {},
     "output_type": "execute_result"
    }
   ],
   "source": [
    "describe = df.describe()\n",
    "total = len(df)\n",
    "data = {}\n",
    "for field in describe.columns:\n",
    "    data[field] = total - describe[field]['count']\n",
    "\n",
    "describe = describe.append(pd.Series(data, name='miss'))\n",
    "describe"
   ]
  },
  {
   "cell_type": "markdown",
   "metadata": {},
   "source": [
    "### 1.2 数据的可视化\n",
    "\n",
    "\n",
    "- 针对数值属性: 绘制直方图，用qq图检验其分布是否为正态分布。\n"
   ]
  },
  {
   "cell_type": "markdown",
   "metadata": {},
   "source": [
    "points属性符合正态分布。"
   ]
  },
  {
   "cell_type": "code",
   "execution_count": 5,
   "metadata": {
    "ExecuteTime": {
     "end_time": "2019-03-28T07:52:19.721584Z",
     "start_time": "2019-03-28T07:52:18.968457Z"
    }
   },
   "outputs": [
    {
     "data": {
      "image/png": "[encoded data removed]",
      "text/plain": [
       "<Figure size 432x288 with 2 Axes>"
      ]
     },
     "metadata": {
      "needs_background": "light"
     },
     "output_type": "display_data"
    }
   ],
   "source": [
    "def hist_and_qqplot(series): \n",
    "    plt.subplot(1, 2, 1)\n",
    "    series.plot.hist(bins=20)\n",
    "    plt.subplot(1, 2, 2)\n",
    "    stats.probplot(series, dist=\"norm\", plot=pylab)\n",
    "    \n",
    "hist_and_qqplot(df['points'])"
   ]
  },
  {
   "cell_type": "markdown",
   "metadata": {
    "ExecuteTime": {
     "end_time": "2019-03-27T06:00:46.963343Z",
     "start_time": "2019-03-27T06:00:46.958313Z"
    }
   },
   "source": [
    "price属性不符合正态分布。\n"
   ]
  },
  {
   "cell_type": "code",
   "execution_count": 6,
   "metadata": {
    "ExecuteTime": {
     "end_time": "2019-03-28T07:52:21.106272Z",
     "start_time": "2019-03-28T07:52:20.418627Z"
    }
   },
   "outputs": [
    {
     "data": {
      "image/png": "[encoded data removed]",
      "text/plain": [
       "<Figure size 432x288 with 2 Axes>"
      ]
     },
     "metadata": {
      "needs_background": "light"
     },
     "output_type": "display_data"
    }
   ],
   "source": [
    "hist_and_qqplot(df['price'])"
   ]
  },
  {
   "cell_type": "markdown",
   "metadata": {},
   "source": [
    "- 针对数值属性: 绘制盒图，对离群值进行识别"
   ]
  },
  {
   "cell_type": "code",
   "execution_count": 7,
   "metadata": {
    "ExecuteTime": {
     "end_time": "2019-03-28T07:52:22.026278Z",
     "start_time": "2019-03-28T07:52:21.754695Z"
    }
   },
   "outputs": [
    {
     "data": {
      "text/plain": [
       "<matplotlib.axes._subplots.AxesSubplot at 0x1a23acea90>"
      ]
     },
     "execution_count": 7,
     "metadata": {},
     "output_type": "execute_result"
    },
    {
     "data": {
      "image/png": "[encoded data removed]",
      "text/plain": [
       "<Figure size 432x288 with 2 Axes>"
      ]
     },
     "metadata": {
      "needs_background": "light"
     },
     "output_type": "display_data"
    }
   ],
   "source": [
    "plt.subplot(1, 2, 1)\n",
    "df.boxplot('points')\n",
    "plt.subplot(1, 2, 2)\n",
    "df.boxplot('price')"
   ]
  },
  {
   "cell_type": "markdown",
   "metadata": {},
   "source": [
    "## 2. 数据缺失的处理"
   ]
  },
  {
   "cell_type": "code",
   "execution_count": 8,
   "metadata": {
    "ExecuteTime": {
     "end_time": "2019-03-28T07:52:23.151604Z",
     "start_time": "2019-03-28T07:52:23.032714Z"
    }
   },
   "outputs": [
    {
     "data": {
      "text/html": [
       "<div>\n",
       "<style scoped>\n",
       "    .dataframe tbody tr th:only-of-type {\n",
       "        vertical-align: middle;\n",
       "    }\n",
       "\n",
       "    .dataframe tbody tr th {\n",
       "        vertical-align: top;\n",
       "    }\n",
       "\n",
       "    .dataframe thead th {\n",
       "        text-align: right;\n",
       "    }\n",
       "</style>\n",
       "<table border=\"1\" class=\"dataframe\">\n",
       "  <thead>\n",
       "    <tr style=\"text-align: right;\">\n",
       "      <th></th>\n",
       "      <th>counts</th>\n",
       "      <th>percent</th>\n",
       "    </tr>\n",
       "  </thead>\n",
       "  <tbody>\n",
       "    <tr>\n",
       "      <th>country</th>\n",
       "      <td>63</td>\n",
       "      <td>0.000485</td>\n",
       "    </tr>\n",
       "    <tr>\n",
       "      <th>description</th>\n",
       "      <td>0</td>\n",
       "      <td>0.000000</td>\n",
       "    </tr>\n",
       "    <tr>\n",
       "      <th>designation</th>\n",
       "      <td>37465</td>\n",
       "      <td>0.288257</td>\n",
       "    </tr>\n",
       "    <tr>\n",
       "      <th>points</th>\n",
       "      <td>0</td>\n",
       "      <td>0.000000</td>\n",
       "    </tr>\n",
       "    <tr>\n",
       "      <th>price</th>\n",
       "      <td>8996</td>\n",
       "      <td>0.069215</td>\n",
       "    </tr>\n",
       "    <tr>\n",
       "      <th>province</th>\n",
       "      <td>63</td>\n",
       "      <td>0.000485</td>\n",
       "    </tr>\n",
       "    <tr>\n",
       "      <th>region_1</th>\n",
       "      <td>21247</td>\n",
       "      <td>0.163475</td>\n",
       "    </tr>\n",
       "    <tr>\n",
       "      <th>region_2</th>\n",
       "      <td>79460</td>\n",
       "      <td>0.611367</td>\n",
       "    </tr>\n",
       "    <tr>\n",
       "      <th>taster_name</th>\n",
       "      <td>26244</td>\n",
       "      <td>0.201922</td>\n",
       "    </tr>\n",
       "    <tr>\n",
       "      <th>taster_twitter_handle</th>\n",
       "      <td>31213</td>\n",
       "      <td>0.240154</td>\n",
       "    </tr>\n",
       "    <tr>\n",
       "      <th>title</th>\n",
       "      <td>0</td>\n",
       "      <td>0.000000</td>\n",
       "    </tr>\n",
       "    <tr>\n",
       "      <th>variety</th>\n",
       "      <td>1</td>\n",
       "      <td>0.000008</td>\n",
       "    </tr>\n",
       "    <tr>\n",
       "      <th>winery</th>\n",
       "      <td>0</td>\n",
       "      <td>0.000000</td>\n",
       "    </tr>\n",
       "  </tbody>\n",
       "</table>\n",
       "</div>"
      ],
      "text/plain": [
       "                       counts   percent\n",
       "country                    63  0.000485\n",
       "description                 0  0.000000\n",
       "designation             37465  0.288257\n",
       "points                      0  0.000000\n",
       "price                    8996  0.069215\n",
       "province                   63  0.000485\n",
       "region_1                21247  0.163475\n",
       "region_2                79460  0.611367\n",
       "taster_name             26244  0.201922\n",
       "taster_twitter_handle   31213  0.240154\n",
       "title                       0  0.000000\n",
       "variety                     1  0.000008\n",
       "winery                      0  0.000000"
      ]
     },
     "execution_count": 8,
     "metadata": {},
     "output_type": "execute_result"
    }
   ],
   "source": [
    "total = len(df)\n",
    "data = {'counts': {}, 'percent': {}}\n",
    "for field in df.columns:\n",
    "    data['counts'][field] = total - df[field].count()\n",
    "    data['percent'][field] = (total - df[field].count())/total\n",
    "pd.DataFrame(data)"
   ]
  },
  {
   "cell_type": "markdown",
   "metadata": {},
   "source": [
    "### 2.1 缺失数据原因分析\n",
    "\n",
    "观察数据集中缺失数据，分析其缺失的原因。\n",
    "\n",
    "country, designation, province, region_1, region_2: 均为酿酒的地址信息，其中region2缺失最多，因为其粒度较细。\n",
    "\n",
    "price: 缺少价格, 占0.6%, 可能是这部分品酒人未关注价格、价格丢失、写评价时忘记填写等。\n",
    "\n",
    "taster_name, taster_twitter_handle: 品酒人信息，有的评价无法获取来源，或者是匿名评价。\n",
    "\n",
    "variety: 种类, 只有1条缺失，可能是偶然缺失。\n",
    "\n",
    "其中，只有价格是数值属性。\n",
    "\n",
    "分别使用下列四种策略对缺失值进行处理:\n",
    "\n",
    "- 将缺失部分剔除\n",
    "\n",
    "\n"
   ]
  },
  {
   "cell_type": "code",
   "execution_count": 9,
   "metadata": {
    "ExecuteTime": {
     "end_time": "2019-03-28T07:52:26.966578Z",
     "start_time": "2019-03-28T07:52:23.958764Z"
    }
   },
   "outputs": [
    {
     "data": {
      "image/png": "[encoded data removed]",
      "text/plain": [
       "<Figure size 432x288 with 6 Axes>"
      ]
     },
     "metadata": {
      "needs_background": "light"
     },
     "output_type": "display_data"
    }
   ],
   "source": [
    "new_df = df.dropna(subset=['price'])\n",
    "\n",
    "\n",
    "def plot_contract(dataframe, row):\n",
    "    plt.subplot(2, 3, 1+3*row)\n",
    "    new_df['price'].plot.hist(bins=500, xlim=(0, 200))\n",
    "    plt.subplot(2, 3, 2+3*row)\n",
    "    stats.probplot(new_df['price'], dist=\"norm\", plot=pylab)\n",
    "    plt.subplot(2, 3, 3+3*row)\n",
    "    df.boxplot('price')\n",
    "\n",
    "\n",
    "plot_contract(df, 0)\n",
    "plot_contract(new_df, 1)"
   ]
  },
  {
   "cell_type": "markdown",
   "metadata": {},
   "source": [
    "- 用最高频率值来填补缺失值\n",
    "\n"
   ]
  },
  {
   "cell_type": "code",
   "execution_count": 10,
   "metadata": {
    "ExecuteTime": {
     "end_time": "2019-03-28T07:52:31.087307Z",
     "start_time": "2019-03-28T07:52:27.600597Z"
    },
    "scrolled": false
   },
   "outputs": [
    {
     "name": "stdout",
     "output_type": "stream",
     "text": [
      "20.0\n"
     ]
    },
    {
     "data": {
      "image/png": "[encoded data removed]",
      "text/plain": [
       "<Figure size 432x288 with 6 Axes>"
      ]
     },
     "metadata": {
      "needs_background": "light"
     },
     "output_type": "display_data"
    }
   ],
   "source": [
    "mode = df.mode()['price'][0]\n",
    "new_df = df.fillna({'price': mode})\n",
    "print(mode)\n",
    "\n",
    "plot_contract(df, 0)\n",
    "plot_contract(new_df, 1)"
   ]
  },
  {
   "cell_type": "markdown",
   "metadata": {},
   "source": [
    "- 通过属性的相关关系来填补缺失值\n",
    "\n",
    "可以观察到价格和评分存在正相关关系。所以建立线性回归模型，通过评分来预测价格。\n"
   ]
  },
  {
   "cell_type": "code",
   "execution_count": 11,
   "metadata": {
    "ExecuteTime": {
     "end_time": "2019-03-28T07:52:32.837298Z",
     "start_time": "2019-03-28T07:52:31.175795Z"
    }
   },
   "outputs": [
    {
     "data": {
      "image/png": "[encoded data removed]",
      "text/plain": [
       "<Figure size 432x288 with 1 Axes>"
      ]
     },
     "metadata": {
      "needs_background": "light"
     },
     "output_type": "display_data"
    }
   ],
   "source": [
    "new_df = df.dropna(subset=['price'])\n",
    "new_df.plot(kind=\"scatter\", x=\"points\", y=\"price\", alpha=0.05)\n",
    "x = new_df['points']\n",
    "y = new_df['price']\n",
    "\n",
    "from sklearn.linear_model import LinearRegression\n",
    "\n",
    "X = np.array(x).reshape(-1, 1)\n",
    "model = LinearRegression()\n",
    "model.fit(X, y)\n",
    "plt.plot(X, model.predict(X), 'r-')\n",
    "plt.ylim(0,300)\n",
    "plt.show()\n"
   ]
  },
  {
   "cell_type": "code",
   "execution_count": 12,
   "metadata": {
    "ExecuteTime": {
     "end_time": "2019-03-29T05:07:57.825110Z",
     "start_time": "2019-03-29T05:07:53.264300Z"
    },
    "scrolled": true
   },
   "outputs": [
    {
     "data": {
      "image/png": "[encoded data removed]",
      "text/plain": [
       "<Figure size 432x288 with 6 Axes>"
      ]
     },
     "metadata": {
      "needs_background": "light"
     },
     "output_type": "display_data"
    }
   ],
   "source": [
    "new_df = df.copy()\n",
    "for index, row in new_df[df['price'].isna()].iterrows():\n",
    "    row['price'] = model.predict(np.array(row['points']).reshape(-1, 1))\n",
    "\n",
    "plot_contract(df, 0)\n",
    "plot_contract(new_df, 1) "
   ]
  },
  {
   "cell_type": "code",
   "execution_count": null,
   "metadata": {},
   "outputs": [],
   "source": []
  }
 ],
 "metadata": {
  "kernelspec": {
   "display_name": "Python 3",
   "language": "python",
   "name": "python3"
  },
  "language_info": {
   "codemirror_mode": {
    "name": "ipython",
    "version": 3
   },
   "file_extension": ".py",
   "mimetype": "text/x-python",
   "name": "python",
   "nbconvert_exporter": "python",
   "pygments_lexer": "ipython3",
   "version": "3.6.7"
  },
  "varInspector": {
   "cols": {
    "lenName": 16,
    "lenType": 16,
    "lenVar": 40
   },
   "kernels_config": {
    "python": {
     "delete_cmd_postfix": "",
     "delete_cmd_prefix": "del ",
     "library": "var_list.py",
     "varRefreshCmd": "print(var_dic_list())"
    },
    "r": {
     "delete_cmd_postfix": ") ",
     "delete_cmd_prefix": "rm(",
     "library": "var_list.r",
     "varRefreshCmd": "cat(var_dic_list()) "
    }
   },
   "types_to_exclude": [
    "module",
    "function",
    "builtin_function_or_method",
    "instance",
    "_Feature"
   ],
   "window_display": false
  }
 },
 "nbformat": 4,
 "nbformat_minor": 2
}
